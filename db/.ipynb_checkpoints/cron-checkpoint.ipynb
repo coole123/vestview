{
 "cells": [
  {
   "cell_type": "code",
   "execution_count": 27,
   "metadata": {
    "collapsed": false
   },
   "outputs": [],
   "source": [
    "import datetime\n",
    "import MySQLdb as mdb\n",
    "import requests\n",
    "# ignore truncation warnings\n",
    "from warnings import filterwarnings\n",
    "from yfdaily import insert_daily_snp500\n",
    "from wikidaily import insert_daily_snp500_wiki_views\n",
    "\n",
    "db_host = '127.0.0.1'\n",
    "db_user = 'sec_user'\n",
    "db_pass = 'password'\n",
    "db_name = 'securities_master'\n",
    "db_port = 3306\n",
    "conn = mdb.connect(db_host, db_user, db_pass, db_name, db_port)\n",
    "\n",
    "def sync_table(table, column):\n",
    "    \"\"\"\n",
    "    Keep all stocks consistent, find the most recent entry for each individual stock.\n",
    "    Then find the min of those, and delete any row who's price_date is greater.\n",
    "    \"\"\"\n",
    "    cur = conn.cursor()\n",
    "    sync = ('SELECT min(grp.max_grped) ' \n",
    "             'FROM (SELECT max({0}) AS max_grped ' \n",
    "                    'FROM {1} ' \n",
    "                    'GROUP BY symbol_id) AS grp').format(column, table)\n",
    "    cur.execute(sync)\n",
    "    min_date = datetime.datetime.strftime(cur.fetchall()[0][0], '%Y-%m-%d')\n",
    "    delete_template = 'DELETE FROM {table} WHERE {column} > \"{min_date}\"'\n",
    "    cur.execute(delete_template.format(table=table, column=column, min_date=min_date))\n",
    "    \n",
    "def most_recent_entry_date(table, column):\n",
    "    cur = conn.cursor()\n",
    "    cur.execute(\"SELECT max({0}) AS max_date FROM {1}\".format(column, table))\n",
    "    try:\n",
    "        return datetime.datetime.strftime(cur.fetchall()[0][0], '%Y%m%d')\n",
    "    except TypeError:\n",
    "        print(\"Couldn't find entry in {0} table under {1} column...\".format(table, column))\n",
    "\n",
    "def update_daily_prices():\n",
    "    sync_table(table='daily_price', column='price_date')\n",
    "    most_recent_date = most_recent_entry_date(table='daily_price', column='price_date')\n",
    "    insert_daily_snp500(most_recent_date)\n",
    "\n",
    "def update_daily_wiki_views():\n",
    "    sync_table(table='daily_wiki_views', column='views_date')\n",
    "    most_recent_date = most_recent_entry_date(table='daily_wiki_views', column='views_date')\n",
    "    insert_daily_snp500_wiki_views(most_recent_date)"
   ]
  },
  {
   "cell_type": "code",
   "execution_count": 28,
   "metadata": {
    "collapsed": false
   },
   "outputs": [
    {
     "name": "stdout",
     "output_type": "stream",
     "text": [
      "SELECT min(grp.max_grped) FROM (SELECT max(price_date) AS max_grped FROM daily_price GROUP BY symbol_id) AS grp\n",
      "DELETE FROM daily_price WHERE price_date > \"2017-01-23\"\n"
     ]
    }
   ],
   "source": [
    "sync_table(table='daily_price', column='price_date')"
   ]
  },
  {
   "cell_type": "code",
   "execution_count": null,
   "metadata": {
    "collapsed": false
   },
   "outputs": [],
   "source": [
    "upda"
   ]
  },
  {
   "cell_type": "code",
   "execution_count": null,
   "metadata": {
    "collapsed": false
   },
   "outputs": [],
   "source": []
  }
 ],
 "metadata": {
  "anaconda-cloud": {},
  "kernelspec": {
   "display_name": "Python [conda env:vestview]",
   "language": "python",
   "name": "conda-env-vestview-py"
  },
  "language_info": {
   "codemirror_mode": {
    "name": "ipython",
    "version": 3
   },
   "file_extension": ".py",
   "mimetype": "text/x-python",
   "name": "python",
   "nbconvert_exporter": "python",
   "pygments_lexer": "ipython3",
   "version": "3.5.2"
  }
 },
 "nbformat": 4,
 "nbformat_minor": 1
}
